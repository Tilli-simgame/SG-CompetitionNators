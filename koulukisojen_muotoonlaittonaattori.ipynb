{
  "nbformat": 4,
  "nbformat_minor": 0,
  "metadata": {
    "colab": {
      "provenance": [],
      "toc_visible": true,
      "authorship_tag": "ABX9TyOIYgKFjt+FeBkR6vw4PFG8",
      "include_colab_link": true
    },
    "kernelspec": {
      "name": "python3",
      "display_name": "Python 3"
    },
    "language_info": {
      "name": "python"
    }
  },
  "cells": [
    {
      "cell_type": "markdown",
      "metadata": {
        "id": "view-in-github",
        "colab_type": "text"
      },
      "source": [
        "<a href=\"https://colab.research.google.com/github/Tilli-simgame/SG-CompetitionNators/blob/main/koulukisojen_muotoonlaittonaattori.ipynb\" target=\"_parent\"><img src=\"https://colab.research.google.com/assets/colab-badge.svg\" alt=\"Open In Colab\"/></a>"
      ]
    },
    {
      "cell_type": "markdown",
      "source": [
        "# Kilpailutulosten hakutyökalu\n",
        "\n",
        "Tämä työkalu hakee kilpailutuloksia annetun ratsastajan ja VRL-numeron perusteella.\n",
        "\n",
        "## Käyttöohjeet:\n",
        "1. Aja solut järjestyksessä ylhäältä alas (Shift + Enter tai play-nappi solun vasemmalla puolella)\n",
        "2. Ensimmäinen solu asentaa tarvittavat kirjastot\n",
        "3. Syötä kilpailujen URL-osoitteet ja haettavan ratsastajan tiedot niille varattuihin soluihin\n",
        "4. Aja viimeinen solu tulosten hakemiseksi\n",
        "\n",
        "## Huomioitavaa:\n",
        "- URL-osoitteiden tulee olla url osoitteita, sisällytä siis myös \"http(s)://\" osuus.\n",
        "- Ratsastajan nimen ja VRL-numeron tulee olla täsmälleen oikeassa muodossa (esim. \"Tilli (VRL-00406)\")"
      ],
      "metadata": {
        "id": "mrSg_6Ewr_wc"
      }
    },
    {
      "cell_type": "markdown",
      "source": [],
      "metadata": {
        "id": "5hAFu6e6sM9M"
      }
    },
    {
      "cell_type": "markdown",
      "source": [
        "# 1. Kirjastojen asennus"
      ],
      "metadata": {
        "id": "IEtEGiFJsPb6"
      }
    },
    {
      "cell_type": "markdown",
      "source": [
        "Suorita tämä solu ensimmäisenä. Se asentaa tarvittavat Python-kirjastot."
      ],
      "metadata": {
        "id": "9mNtKH6KsR6L"
      }
    },
    {
      "cell_type": "markdown",
      "source": [],
      "metadata": {
        "id": "i7zS6BAdsYbT"
      }
    },
    {
      "cell_type": "code",
      "source": [
        "!pip install requests beautifulsoup4 pandas"
      ],
      "metadata": {
        "colab": {
          "base_uri": "https://localhost:8080/"
        },
        "id": "7Rrv339useQa",
        "outputId": "07f27f60-9e6f-4937-9841-5b9ef5349f70"
      },
      "execution_count": 3,
      "outputs": [
        {
          "output_type": "stream",
          "name": "stdout",
          "text": [
            "Requirement already satisfied: requests in /usr/local/lib/python3.11/dist-packages (2.32.3)\n",
            "Requirement already satisfied: beautifulsoup4 in /usr/local/lib/python3.11/dist-packages (4.13.3)\n",
            "Requirement already satisfied: pandas in /usr/local/lib/python3.11/dist-packages (2.2.2)\n",
            "Requirement already satisfied: charset-normalizer<4,>=2 in /usr/local/lib/python3.11/dist-packages (from requests) (3.4.1)\n",
            "Requirement already satisfied: idna<4,>=2.5 in /usr/local/lib/python3.11/dist-packages (from requests) (3.10)\n",
            "Requirement already satisfied: urllib3<3,>=1.21.1 in /usr/local/lib/python3.11/dist-packages (from requests) (2.3.0)\n",
            "Requirement already satisfied: certifi>=2017.4.17 in /usr/local/lib/python3.11/dist-packages (from requests) (2025.1.31)\n",
            "Requirement already satisfied: soupsieve>1.2 in /usr/local/lib/python3.11/dist-packages (from beautifulsoup4) (2.6)\n",
            "Requirement already satisfied: typing-extensions>=4.0.0 in /usr/local/lib/python3.11/dist-packages (from beautifulsoup4) (4.12.2)\n",
            "Requirement already satisfied: numpy>=1.23.2 in /usr/local/lib/python3.11/dist-packages (from pandas) (1.26.4)\n",
            "Requirement already satisfied: python-dateutil>=2.8.2 in /usr/local/lib/python3.11/dist-packages (from pandas) (2.8.2)\n",
            "Requirement already satisfied: pytz>=2020.1 in /usr/local/lib/python3.11/dist-packages (from pandas) (2025.1)\n",
            "Requirement already satisfied: tzdata>=2022.7 in /usr/local/lib/python3.11/dist-packages (from pandas) (2025.1)\n",
            "Requirement already satisfied: six>=1.5 in /usr/local/lib/python3.11/dist-packages (from python-dateutil>=2.8.2->pandas) (1.17.0)\n"
          ]
        }
      ]
    },
    {
      "cell_type": "markdown",
      "source": [
        "# 2. Python-kirjastojen tuonti"
      ],
      "metadata": {
        "id": "1sffF6WXsfay"
      }
    },
    {
      "cell_type": "markdown",
      "source": [
        "Tämä solu lataa tarvittavat työkalut käyttöön."
      ],
      "metadata": {
        "id": "YTXsDTqkspIU"
      }
    },
    {
      "cell_type": "code",
      "source": [
        "import requests\n",
        "from bs4 import BeautifulSoup\n",
        "import re\n",
        "import pandas as pd\n",
        "from IPython.display import display, HTML\n",
        "from datetime import datetime"
      ],
      "metadata": {
        "id": "lDnFAD8dsrOi"
      },
      "execution_count": 4,
      "outputs": []
    },
    {
      "cell_type": "markdown",
      "source": [
        "# 3. Hakutoiminnot"
      ],
      "metadata": {
        "id": "AeUw8GsqstUu"
      }
    },
    {
      "cell_type": "markdown",
      "source": [
        "Tämä solu sisältää ohjelman toiminnallisuuden. Suorita solu, mutta koodia ei tarvitse muokata."
      ],
      "metadata": {
        "id": "9x0zjG3yswjq"
      }
    },
    {
      "cell_type": "code",
      "source": [
        "def extract_event_details(text):\n",
        "    # Try different patterns for date\n",
        "    date_patterns = [\n",
        "        r'Kilpailupäivä\\s*\\*\\*([^*]+?)\\*\\*',\n",
        "        r'Kilpailupäivä\\s*([0-9]{1,2}\\.[0-9]{1,2}\\s*[0-9]{4})',\n",
        "        r'Kilpailupäivä\\s+([^\\n,]+)',\n",
        "    ]\n",
        "\n",
        "    competition_date = \"\"\n",
        "    for pattern in date_patterns:\n",
        "        date_match = re.search(pattern, text, re.IGNORECASE)\n",
        "        if date_match:\n",
        "            competition_date = date_match.group(1).strip()\n",
        "            break\n",
        "\n",
        "    # Try different patterns for location\n",
        "    location_patterns = [\n",
        "        r'Järjestyspaikka\\s*\\*\\*([^*]+?)\\*\\*',\n",
        "        r'Järjestyspaikka\\s+([^\\n,]+)',\n",
        "        r'Järjestyspaikka\\s*([^,\\n]+)'\n",
        "    ]\n",
        "\n",
        "    location = \"\"\n",
        "    for pattern in location_patterns:\n",
        "        location_match = re.search(pattern, text, re.IGNORECASE)\n",
        "        if location_match:\n",
        "            location = location_match.group(1).strip()\n",
        "            # Remove any remaining ** if present\n",
        "            location = location.replace('*', '').strip()\n",
        "            break\n",
        "\n",
        "    return competition_date, location\n",
        "\n",
        "def extract_class_participants(text):\n",
        "    class_participants = {}\n",
        "    in_class_list = False\n",
        "    lines = text.split('\\n')\n",
        "\n",
        "    for line in lines:\n",
        "        line = line.strip()\n",
        "\n",
        "        # Start capturing after \"luokat\"\n",
        "        if line.lower() == 'luokat':\n",
        "            in_class_list = True\n",
        "            continue\n",
        "\n",
        "        # Stop when we hit \"tulokset\"\n",
        "        if line.lower() == 'tulokset':\n",
        "            break\n",
        "\n",
        "        if in_class_list and line:\n",
        "            # Match pattern like \"1. Helppo A 34/50\" where 34 is current participants\n",
        "            match = re.match(r'(\\d+)\\.\\s+(.*?)\\s+(\\d+)/\\d+', line)\n",
        "            if match:\n",
        "                class_num = match.group(1)\n",
        "                class_name = match.group(2)\n",
        "                current_participants = int(match.group(3))  # Using the first number\n",
        "                class_key = f\"{class_num}. {class_name}\"\n",
        "                class_participants[class_key] = current_participants\n",
        "\n",
        "    return class_participants\n",
        "\n",
        "def search_competition_results(content, search_term):\n",
        "    try:\n",
        "        # Create soup from content\n",
        "        soup = BeautifulSoup(content, 'html.parser')\n",
        "        text_content = soup.get_text()\n",
        "\n",
        "        # Extract event details from the full text\n",
        "        competition_date, location = extract_event_details(text_content)\n",
        "\n",
        "        # Extract class participants\n",
        "        class_participants = extract_class_participants(text_content)\n",
        "\n",
        "        # Find results section\n",
        "        results = []\n",
        "        current_class = None\n",
        "        in_results = False\n",
        "\n",
        "        # Convert all content to text and split into lines\n",
        "        lines = text_content.split('\\n')\n",
        "\n",
        "        for line in lines:\n",
        "            line = line.strip()\n",
        "\n",
        "            # Check if we've reached the results section\n",
        "            if line.lower() == 'tulokset':\n",
        "                in_results = True\n",
        "                continue\n",
        "\n",
        "            if not in_results:\n",
        "                continue\n",
        "\n",
        "            # Check if this is a class header\n",
        "            if re.match(r'^\\d+\\.\\s+(Helppo|Vaativa|Prix|Grand|Intermediate|KN Special)', line):\n",
        "                current_class = line.split(' ', 1)[1] if ' ' in line else line  # Remove number from class name\n",
        "                class_number = line.split('.')[0] + '.' if '.' in line else ''\n",
        "                current_class = f\"{class_number} {current_class}\"\n",
        "            # Check if this contains the search term\n",
        "            elif search_term in line and current_class:\n",
        "                placement_match = re.match(r'^\\d+\\.', line)\n",
        "                placement = placement_match.group().strip('.') if placement_match else ''\n",
        "\n",
        "                # Extract horse name without VRL number\n",
        "                horse_match = re.search(r'\\) - ([^V]+)VH', line)\n",
        "                horse_name = horse_match.group(1).strip() if horse_match else ''\n",
        "\n",
        "                # Extract VH number\n",
        "                vh_match = re.search(r'(VH\\d+-\\d+-\\d+)', line)\n",
        "                vh_number = vh_match.group(1) if vh_match else ''\n",
        "\n",
        "                # Extract class name and get total participants\n",
        "                total_participants = class_participants.get(current_class, 0)\n",
        "\n",
        "                # Class level sorting\n",
        "                class_levels = {\n",
        "                    'Helppo D': 1,\n",
        "                    'Helppo C': 2,\n",
        "                    'Helppo B': 3,\n",
        "                    'KN Special': 4,\n",
        "                    'Helppo A': 5,\n",
        "                    'Vaativa B': 6,\n",
        "                    'Vaativa A': 7,\n",
        "                    'Prix St. Georges': 8,\n",
        "                    'Intermediate I': 9,\n",
        "                    'Intermediate II': 10,\n",
        "                    'Grand Prix': 11\n",
        "                }\n",
        "\n",
        "                # Get class name without number for level lookup\n",
        "                class_name_only = ' '.join(current_class.split(' ')[1:]) if ' ' in current_class else current_class\n",
        "                class_level = class_levels.get(class_name_only, 0)\n",
        "\n",
        "                results.append({\n",
        "                    'class': class_name_only,\n",
        "                    'class_number': int(current_class.split('.')[0]) if '.' in current_class else 999,\n",
        "                    'class_level': class_level,\n",
        "                    'placement': int(placement) if placement else 999,\n",
        "                    'total_participants': total_participants,\n",
        "                    'horse_name': horse_name,\n",
        "                    'vh_number': vh_number,\n",
        "                    'full_result': line,\n",
        "                    'competition_date': competition_date,\n",
        "                    'location': location\n",
        "                })\n",
        "\n",
        "        return results\n",
        "\n",
        "    except Exception as e:\n",
        "        print(f\"Error processing content: {str(e)}\")\n",
        "        return []\n",
        "\n",
        "def display_results_by_horse(results, save_to_file=False):\n",
        "    if not results:\n",
        "        print(\"No results found.\")\n",
        "        return\n",
        "\n",
        "    # Create a pandas DataFrame\n",
        "    df = pd.DataFrame(results)\n",
        "\n",
        "    # Sort by horse name, class level, and placement\n",
        "    df = df.sort_values(by=['horse_name', 'class_level', 'class_number', 'placement'])\n",
        "\n",
        "    # Group by horse\n",
        "    grouped = df.groupby(['horse_name', 'vh_number'])\n",
        "\n",
        "    # Display results for each horse\n",
        "    for (horse_name, vh_number), group in grouped:\n",
        "        if not horse_name:  # Skip if no horse name found\n",
        "            continue\n",
        "\n",
        "        print(f\"\\n{horse_name} {vh_number}:\")  # Added space between name and VH number\n",
        "\n",
        "        # Sort entries by class level and placement\n",
        "        sorted_entries = group.sort_values(by=['class_level', 'class_number', 'placement'])\n",
        "\n",
        "        # Display each placement separately\n",
        "        for _, row in sorted_entries.iterrows():\n",
        "            if row['placement'] != 999:\n",
        "                print(f\"{row['competition_date']} - {row['location']} - {row['class']} - {row['placement']}/{row['total_participants']}\")\n",
        "\n",
        "    # Save to CSV if requested\n",
        "    if save_to_file:\n",
        "        timestamp = datetime.now().strftime(\"%Y%m%d_%H%M%S\")\n",
        "        filename = f'competition_results_{timestamp}.csv'\n",
        "        df.to_csv(filename, index=False)\n",
        "        print(f\"\\nResults saved to {filename}\")\n",
        "\n",
        "def process_multiple_urls(urls, search_term):\n",
        "    all_results = []\n",
        "\n",
        "    for url in urls:\n",
        "        try:\n",
        "            print(f\"\\nProcessing {url}...\")\n",
        "            response = requests.get(url)\n",
        "            response.encoding = 'utf-8'\n",
        "            results = search_competition_results(response.text, search_term)\n",
        "            all_results.extend(results)\n",
        "            print(f\"Found {len(results)} results\")\n",
        "        except Exception as e:\n",
        "            print(f\"Error processing {url}: {str(e)}\")\n",
        "\n",
        "    return all_results"
      ],
      "metadata": {
        "id": "I0DllLs-szkx"
      },
      "execution_count": 5,
      "outputs": []
    },
    {
      "cell_type": "markdown",
      "source": [
        "# 4. Syötetiedot"
      ],
      "metadata": {
        "id": "ZQc8TkWLs5Cp"
      }
    },
    {
      "cell_type": "markdown",
      "source": [
        "Muokkaa alla olevat tiedot:\n",
        "- Lisää kilpailujen URL-osoitteet urls-listaan\n",
        "- Kirjoita search_term-kohtaan haettavan ratsastajan nimi tai VRL-numero täsmälleen oikeassa muodossa\n",
        "\n",
        "Esimerkki:\n",
        "- URL: https://harakkasyndrooma.net/n/krj/361.html\n",
        "- Ratsastajan tiedot: \"Tilli (VRL-00406)\""
      ],
      "metadata": {
        "id": "hbgo35rFs7Lb"
      }
    },
    {
      "cell_type": "code",
      "source": [
        "# Lisää kilpailujen URL-osoitteet tähän, yksi per rivi\n",
        "urls = [\n",
        "    \"https://harakkasyndrooma.net/n/krj/361.html\",\n",
        "    \"https://harakkasyndrooma.net/n/krj/362.html\",\n",
        "    \"https://harakkasyndrooma.net/n/krj/431.html\",\n",
        "    \"https://harakkasyndrooma.net/n/krj/331.html\" # Poista # merkki rivin alusta ottaaksesi URL käyttöön\n",
        "]\n",
        "\n",
        "# Kirjoita ratsastajan nimi tai VRL-numero\n",
        "search_term = \"corbin. (VRL-06467)\"  # Muuta tämä"
      ],
      "metadata": {
        "id": "UUFQXRmcs9R7"
      },
      "execution_count": 6,
      "outputs": []
    },
    {
      "cell_type": "markdown",
      "source": [
        "# 5. Tulosten haku"
      ],
      "metadata": {
        "id": "Bi7gS78LtBTT"
      }
    },
    {
      "cell_type": "markdown",
      "source": [
        "Suorita tämä solu hakeaksesi tulokset.\n",
        "- Tulokset näytetään ruudulla\n",
        "- CSV-tiedosto tallennetaan automaattisesti"
      ],
      "metadata": {
        "id": "amIcaQ1XtEXe"
      }
    },
    {
      "cell_type": "code",
      "source": [
        "# Hae ja näytä tulokset\n",
        "results = process_multiple_urls(urls, search_term)\n",
        "display_results_by_horse(results, save_to_file=True)"
      ],
      "metadata": {
        "colab": {
          "base_uri": "https://localhost:8080/"
        },
        "id": "-CTn2W54tHDj",
        "outputId": "32bd1bd7-e3a0-454b-842c-42986ec0de48"
      },
      "execution_count": 7,
      "outputs": [
        {
          "output_type": "stream",
          "name": "stdout",
          "text": [
            "\n",
            "Processing https://harakkasyndrooma.net/n/krj/361.html...\n",
            "Found 65 results\n",
            "\n",
            "Processing https://harakkasyndrooma.net/n/krj/362.html...\n",
            "Found 65 results\n",
            "\n",
            "Processing https://harakkasyndrooma.net/n/krj/431.html...\n",
            "Found 25 results\n",
            "\n",
            "Processing https://harakkasyndrooma.net/n/krj/331.html...\n",
            "Found 26 results\n",
            "\n",
            "Beaudesert SIN VH24-031-0083:\n",
            "01.12 2024 - Nessinjärven kilpailukeskus - Vaativa A - 21/26\n",
            "01.12 2024 - Nessinjärven kilpailukeskus - Vaativa A - 18/26\n",
            "12.01 2025 - Nessinjärven kilpailukeskus - Vaativa A - 17/35\n",
            "11.01 2025 - Nessinjärven kilpailukeskus - Vaativa A - 28/35\n",
            "12.01 2025 - Nessinjärven kilpailukeskus - Vaativa A - 7/38\n",
            "11.01 2025 - Nessinjärven kilpailukeskus - Vaativa A - 8/38\n",
            "\n",
            "Bombay Rest VH03-021-9793:\n",
            "11.01 2025 - Nessinjärven kilpailukeskus - Grand Prix - 5/41\n",
            "12.01 2025 - Nessinjärven kilpailukeskus - Grand Prix - 15/41\n",
            "11.01 2025 - Nessinjärven kilpailukeskus - Grand Prix - 26/39\n",
            "12.01 2025 - Nessinjärven kilpailukeskus - Grand Prix - 30/39\n",
            "\n",
            "Bravo O' Polo VH24-044-0082:\n",
            "01.02 2025 - Nessinjärven kilpailukeskus - Grand Prix - 4/47\n",
            "01.02 2025 - Nessinjärven kilpailukeskus - Grand Prix - 8/45\n",
            "12.01 2025 - Nessinjärven kilpailukeskus - Grand Prix - 27/41\n",
            "11.01 2025 - Nessinjärven kilpailukeskus - Grand Prix - 39/41\n",
            "12.01 2025 - Nessinjärven kilpailukeskus - Grand Prix - 1/39\n",
            "11.01 2025 - Nessinjärven kilpailukeskus - Grand Prix - 3/39\n",
            "\n",
            "Bvlgari AIR VH24-031-0079:\n",
            "01.02 2025 - Nessinjärven kilpailukeskus - Intermediate I - 18/30\n",
            "11.01 2025 - Nessinjärven kilpailukeskus - Intermediate I - 2/24\n",
            "12.01 2025 - Nessinjärven kilpailukeskus - Intermediate I - 14/24\n",
            "01.02 2025 - Nessinjärven kilpailukeskus - Intermediate II - 27/31\n",
            "11.01 2025 - Nessinjärven kilpailukeskus - Intermediate II - 9/22\n",
            "12.01 2025 - Nessinjärven kilpailukeskus - Intermediate II - 9/22\n",
            "\n",
            "Catalina v. Rouce VH03-031-4452:\n",
            "01.12 2024 - Nessinjärven kilpailukeskus - Vaativa A - 16/26\n",
            "01.12 2024 - Nessinjärven kilpailukeskus - Vaativa A - 23/26\n",
            "11.01 2025 - Nessinjärven kilpailukeskus - Vaativa A - 1/35\n",
            "12.01 2025 - Nessinjärven kilpailukeskus - Vaativa A - 10/35\n",
            "12.01 2025 - Nessinjärven kilpailukeskus - Vaativa A - 2/38\n",
            "11.01 2025 - Nessinjärven kilpailukeskus - Vaativa A - 31/38\n",
            "\n",
            "Chainsaw Charlie HRW VH04-031-3111:\n",
            "01.12 2024 - Nessinjärven kilpailukeskus - Vaativa A - 25/34\n",
            "01.12 2024 - Nessinjärven kilpailukeskus - Vaativa A - 13/31\n",
            "\n",
            "Chantelle Rock VH24-021-0047:\n",
            "11.01 2025 - Nessinjärven kilpailukeskus - Prix St. Georges - 2/15\n",
            "12.01 2025 - Nessinjärven kilpailukeskus - Prix St. Georges - 14/15\n",
            "\n",
            "Charmainelle AIR VH24-011-0098:\n",
            "01.02 2025 - Nessinjärven kilpailukeskus - Prix St. Georges - 14/21\n",
            "11.01 2025 - Nessinjärven kilpailukeskus - Prix St. Georges - 7/15\n",
            "12.01 2025 - Nessinjärven kilpailukeskus - Prix St. Georges - 15/15\n",
            "\n",
            "Cloud's Only Love VH04-031-9373:\n",
            "01.02 2025 - Nessinjärven kilpailukeskus - Prix St. Georges - 2/21\n",
            "\n",
            "Dirty Sexy Money Mims VH06-031-1544:\n",
            "01.12 2024 - Nessinjärven kilpailukeskus - Vaativa A - 6/34\n",
            "01.12 2024 - Nessinjärven kilpailukeskus - Vaativa A - 18/31\n",
            "\n",
            "Dolphin Chapie VH03-031-6504:\n",
            "12.01 2025 - Nessinjärven kilpailukeskus - Vaativa B - 32/50\n",
            "11.01 2025 - Nessinjärven kilpailukeskus - Vaativa B - 44/50\n",
            "11.01 2025 - Nessinjärven kilpailukeskus - Vaativa B - 21/50\n",
            "12.01 2025 - Nessinjärven kilpailukeskus - Vaativa B - 44/50\n",
            "\n",
            "Dylan HRW VH06-021-4982:\n",
            "11.01 2025 - Nessinjärven kilpailukeskus - Intermediate I - 4/24\n",
            "12.01 2025 - Nessinjärven kilpailukeskus - Intermediate I - 7/24\n",
            "12.01 2025 - Nessinjärven kilpailukeskus - Intermediate II - 3/22\n",
            "11.01 2025 - Nessinjärven kilpailukeskus - Intermediate II - 5/22\n",
            "01.02 2025 - Nessinjärven kilpailukeskus - Grand Prix - 37/47\n",
            "01.02 2025 - Nessinjärven kilpailukeskus - Grand Prix - 19/45\n",
            "\n",
            "Fawnmor Cinnabar VH22-023-0128:\n",
            "12.01 2025 - Nessinjärven kilpailukeskus - Helppo C - 14/45\n",
            "11.01 2025 - Nessinjärven kilpailukeskus - Helppo C - 42/45\n",
            "11.01 2025 - Nessinjärven kilpailukeskus - Helppo B - 4/50\n",
            "12.01 2025 - Nessinjärven kilpailukeskus - Helppo B - 15/50\n",
            "\n",
            "Foxfire of Mirraberg VH24-031-0133:\n",
            "01.12 2024 - Nessinjärven kilpailukeskus - Vaativa A - 10/34\n",
            "01.12 2024 - Nessinjärven kilpailukeskus - Vaativa A - 30/31\n",
            "\n",
            "Franciscus Winds VH24-011-0097:\n",
            "01.02 2025 - Nessinjärven kilpailukeskus - Intermediate I - 14/30\n",
            "01.02 2025 - Nessinjärven kilpailukeskus - Intermediate II - 24/31\n",
            "\n",
            "From First to Last Celt VH24-044-0050:\n",
            "01.12 2024 - Nessinjärven kilpailukeskus - Vaativa A - 26/26\n",
            "01.12 2024 - Nessinjärven kilpailukeskus - Vaativa A - 14/26\n",
            "\n",
            "Hannibal Kooss VH02-021-7958:\n",
            "01.12 2024 - Nessinjärven kilpailukeskus - Vaativa A - 11/26\n",
            "01.12 2024 - Nessinjärven kilpailukeskus - Vaativa A - 5/26\n",
            "\n",
            "Heinämäen Luukas VH05-018-4989:\n",
            "11.01 2025 - Nessinjärven kilpailukeskus - Helppo C - 36/45\n",
            "12.01 2025 - Nessinjärven kilpailukeskus - Helppo C - 45/45\n",
            "\n",
            "Heinämäen Tuisku VH24-018-0433:\n",
            "12.01 2025 - Nessinjärven kilpailukeskus - Helppo C - 41/45\n",
            "11.01 2025 - Nessinjärven kilpailukeskus - Helppo C - 45/45\n",
            "11.01 2025 - Nessinjärven kilpailukeskus - Helppo B - 3/50\n",
            "12.01 2025 - Nessinjärven kilpailukeskus - Helppo B - 22/50\n",
            "\n",
            "Hystereesi VH24-018-0432:\n",
            "11.01 2025 - Nessinjärven kilpailukeskus - Helppo C - 16/45\n",
            "12.01 2025 - Nessinjärven kilpailukeskus - Helppo C - 35/45\n",
            "11.01 2025 - Nessinjärven kilpailukeskus - Helppo B - 18/50\n",
            "12.01 2025 - Nessinjärven kilpailukeskus - Helppo B - 32/50\n",
            "\n",
            "Kingston Cleo VH24-031-0089:\n",
            "12.01 2025 - Nessinjärven kilpailukeskus - Vaativa A - 1/35\n",
            "11.01 2025 - Nessinjärven kilpailukeskus - Vaativa A - 2/35\n",
            "11.01 2025 - Nessinjärven kilpailukeskus - Vaativa A - 4/38\n",
            "12.01 2025 - Nessinjärven kilpailukeskus - Vaativa A - 26/38\n",
            "\n",
            "Kingston Finaal VH24-031-0082:\n",
            "01.02 2025 - Nessinjärven kilpailukeskus - Grand Prix - 42/47\n",
            "01.02 2025 - Nessinjärven kilpailukeskus - Grand Prix - 5/45\n",
            "12.01 2025 - Nessinjärven kilpailukeskus - Grand Prix - 23/41\n",
            "11.01 2025 - Nessinjärven kilpailukeskus - Grand Prix - 31/41\n",
            "12.01 2025 - Nessinjärven kilpailukeskus - Grand Prix - 19/39\n",
            "11.01 2025 - Nessinjärven kilpailukeskus - Grand Prix - 22/39\n",
            "\n",
            "Kingston Inna VH24-031-0084:\n",
            "01.02 2025 - Nessinjärven kilpailukeskus - Intermediate I - 12/30\n",
            "01.02 2025 - Nessinjärven kilpailukeskus - Intermediate II - 29/31\n",
            "\n",
            "Kingston Ladina VH24-031-0088:\n",
            "01.12 2024 - Nessinjärven kilpailukeskus - Vaativa A - 25/26\n",
            "01.12 2024 - Nessinjärven kilpailukeskus - Vaativa A - 2/26\n",
            "12.01 2025 - Nessinjärven kilpailukeskus - Vaativa A - 2/35\n",
            "11.01 2025 - Nessinjärven kilpailukeskus - Vaativa A - 4/35\n",
            "12.01 2025 - Nessinjärven kilpailukeskus - Vaativa A - 8/38\n",
            "11.01 2025 - Nessinjärven kilpailukeskus - Vaativa A - 38/38\n",
            "\n",
            "Kingston Masterpiece VH24-021-0082:\n",
            "01.12 2024 - Nessinjärven kilpailukeskus - Vaativa A - 22/34\n",
            "01.12 2024 - Nessinjärven kilpailukeskus - Vaativa A - 2/31\n",
            "\n",
            "Kingston Trina VH24-021-0048:\n",
            "12.01 2025 - Nessinjärven kilpailukeskus - Prix St. Georges - 7/15\n",
            "11.01 2025 - Nessinjärven kilpailukeskus - Prix St. Georges - 13/15\n",
            "\n",
            "M.N. Final Conquista VH06-031-3042:\n",
            "11.01 2025 - Nessinjärven kilpailukeskus - Grand Prix - 12/41\n",
            "12.01 2025 - Nessinjärven kilpailukeskus - Grand Prix - 12/41\n",
            "12.01 2025 - Nessinjärven kilpailukeskus - Grand Prix - 4/39\n",
            "11.01 2025 - Nessinjärven kilpailukeskus - Grand Prix - 7/39\n",
            "\n",
            "Nazaréth VH06-021-8220:\n",
            "11.01 2025 - Nessinjärven kilpailukeskus - Prix St. Georges - 4/15\n",
            "12.01 2025 - Nessinjärven kilpailukeskus - Prix St. Georges - 11/15\n",
            "\n",
            "Poniniemen Riona VH24-023-0136:\n",
            "11.01 2025 - Nessinjärven kilpailukeskus - Helppo D - 1/44\n",
            "12.01 2025 - Nessinjärven kilpailukeskus - Helppo D - 6/44\n",
            "11.01 2025 - Nessinjärven kilpailukeskus - Helppo B - 24/50\n",
            "12.01 2025 - Nessinjärven kilpailukeskus - Helppo B - 41/50\n",
            "\n",
            "Relissi VH06-018-0125:\n",
            "11.01 2025 - Nessinjärven kilpailukeskus - Helppo D - 4/44\n",
            "12.01 2025 - Nessinjärven kilpailukeskus - Helppo D - 7/44\n",
            "11.01 2025 - Nessinjärven kilpailukeskus - Helppo B - 36/50\n",
            "12.01 2025 - Nessinjärven kilpailukeskus - Helppo B - 40/50\n",
            "01.12 2024 - Nessinjärven kilpailukeskus - Helppo A - 2/50\n",
            "01.12 2024 - Nessinjärven kilpailukeskus - Helppo A - 22/50\n",
            "\n",
            "Sparta Al-Adeed VH12-003-0494:\n",
            "12.01 2025 - Nessinjärven kilpailukeskus - Helppo D - 10/44\n",
            "11.01 2025 - Nessinjärven kilpailukeskus - Helppo D - 29/44\n",
            "11.01 2025 - Nessinjärven kilpailukeskus - Helppo B - 2/50\n",
            "12.01 2025 - Nessinjärven kilpailukeskus - Helppo B - 27/50\n",
            "01.12 2024 - Nessinjärven kilpailukeskus - Helppo A - 13/50\n",
            "01.12 2024 - Nessinjärven kilpailukeskus - Helppo A - 49/50\n",
            "\n",
            "Synd Sunburn VH24-031-0085:\n",
            "01.02 2025 - Nessinjärven kilpailukeskus - Prix St. Georges - 13/21\n",
            "\n",
            "Tafuna SIN VH24-031-0087:\n",
            "11.01 2025 - Nessinjärven kilpailukeskus - Vaativa B - 14/50\n",
            "12.01 2025 - Nessinjärven kilpailukeskus - Vaativa B - 36/50\n",
            "11.01 2025 - Nessinjärven kilpailukeskus - Vaativa B - 6/50\n",
            "12.01 2025 - Nessinjärven kilpailukeskus - Vaativa B - 23/50\n",
            "\n",
            "Trisscar PB VH24-021-0050:\n",
            "12.01 2025 - Nessinjärven kilpailukeskus - Prix St. Georges - 6/15\n",
            "11.01 2025 - Nessinjärven kilpailukeskus - Prix St. Georges - 14/15\n",
            "\n",
            "Waldorff Mastermind VH24-021-0046:\n",
            "01.02 2025 - Nessinjärven kilpailukeskus - Grand Prix - 5/47\n",
            "01.02 2025 - Nessinjärven kilpailukeskus - Grand Prix - 15/45\n",
            "12.01 2025 - Nessinjärven kilpailukeskus - Grand Prix - 29/41\n",
            "11.01 2025 - Nessinjärven kilpailukeskus - Grand Prix - 38/41\n",
            "11.01 2025 - Nessinjärven kilpailukeskus - Grand Prix - 5/39\n",
            "12.01 2025 - Nessinjärven kilpailukeskus - Grand Prix - 20/39\n",
            "\n",
            "Wermona KL VH01-031-9865:\n",
            "12.01 2025 - Nessinjärven kilpailukeskus - Vaativa B - 1/50\n",
            "11.01 2025 - Nessinjärven kilpailukeskus - Vaativa B - 28/50\n",
            "12.01 2025 - Nessinjärven kilpailukeskus - Vaativa B - 8/50\n",
            "11.01 2025 - Nessinjärven kilpailukeskus - Vaativa B - 26/50\n",
            "\n",
            "Why So Serious DD VH24-044-0049:\n",
            "12.01 2025 - Nessinjärven kilpailukeskus - Intermediate I - 10/24\n",
            "11.01 2025 - Nessinjärven kilpailukeskus - Intermediate I - 16/24\n",
            "11.01 2025 - Nessinjärven kilpailukeskus - Intermediate II - 17/22\n",
            "12.01 2025 - Nessinjärven kilpailukeskus - Intermediate II - 21/22\n",
            "01.02 2025 - Nessinjärven kilpailukeskus - Grand Prix - 36/47\n",
            "01.02 2025 - Nessinjärven kilpailukeskus - Grand Prix - 9/45\n",
            "\n",
            "Results saved to competition_results_20250211_192123.csv\n"
          ]
        }
      ]
    }
  ]
}