{
  "cells": [
    {
      "cell_type": "markdown",
      "metadata": {
        "id": "view-in-github",
        "colab_type": "text"
      },
      "source": [
        "<a href=\"https://colab.research.google.com/github/Tilli-simgame/SG-CompetitionNators/blob/main/estekisojen_muotoonlaittonaattori.ipynb\" target=\"_parent\"><img src=\"https://colab.research.google.com/assets/colab-badge.svg\" alt=\"Open In Colab\"/></a>"
      ]
    },
    {
      "cell_type": "markdown",
      "metadata": {
        "id": "mrSg_6Ewr_wc"
      },
      "source": [
        "# Kilpailutulosten hakutyökalu\n",
        "\n",
        "Tämä työkalu hakee kilpailutuloksia annetun ratsastajan ja VRL-numeron perusteella.\n",
        "\n",
        "## Käyttöohjeet:\n",
        "1. Aja solut järjestyksessä ylhäältä alas (Shift + Enter tai play-nappi solun vasemmalla puolella)\n",
        "2. Ensimmäinen solu asentaa tarvittavat kirjastot\n",
        "3. Syötä kilpailujen URL-osoitteet ja haettavan ratsastajan tiedot niille varattuihin soluihin\n",
        "4. Aja viimeinen solu tulosten hakemiseksi\n",
        "\n",
        "## Huomioitavaa:\n",
        "- URL-osoitteiden tulee olla url osoitteita, sisällytä siis myös \"http(s)://\" osuus.\n",
        "- Ratsastajan nimen ja VRL-numeron tulee olla täsmälleen oikeassa muodossa (esim. \"Tilli (VRL-00406)\")"
      ]
    },
    {
      "cell_type": "markdown",
      "metadata": {
        "id": "5hAFu6e6sM9M"
      },
      "source": []
    },
    {
      "cell_type": "markdown",
      "metadata": {
        "id": "IEtEGiFJsPb6"
      },
      "source": [
        "# 1. Kirjastojen asennus"
      ]
    },
    {
      "cell_type": "markdown",
      "metadata": {
        "id": "9mNtKH6KsR6L"
      },
      "source": [
        "Suorita tämä solu ensimmäisenä. Se asentaa tarvittavat Python-kirjastot."
      ]
    },
    {
      "cell_type": "markdown",
      "metadata": {
        "id": "i7zS6BAdsYbT"
      },
      "source": []
    },
    {
      "cell_type": "code",
      "execution_count": null,
      "metadata": {
        "colab": {
          "base_uri": "https://localhost:8080/"
        },
        "id": "7Rrv339useQa",
        "outputId": "f9becb10-c4be-4dfc-9bcf-990a466009c1"
      },
      "outputs": [
        {
          "output_type": "stream",
          "name": "stdout",
          "text": [
            "Requirement already satisfied: requests in /usr/local/lib/python3.11/dist-packages (2.32.3)\n",
            "Requirement already satisfied: beautifulsoup4 in /usr/local/lib/python3.11/dist-packages (4.13.3)\n",
            "Requirement already satisfied: pandas in /usr/local/lib/python3.11/dist-packages (2.2.2)\n",
            "Requirement already satisfied: charset-normalizer<4,>=2 in /usr/local/lib/python3.11/dist-packages (from requests) (3.4.1)\n",
            "Requirement already satisfied: idna<4,>=2.5 in /usr/local/lib/python3.11/dist-packages (from requests) (3.10)\n",
            "Requirement already satisfied: urllib3<3,>=1.21.1 in /usr/local/lib/python3.11/dist-packages (from requests) (2.3.0)\n",
            "Requirement already satisfied: certifi>=2017.4.17 in /usr/local/lib/python3.11/dist-packages (from requests) (2025.1.31)\n",
            "Requirement already satisfied: soupsieve>1.2 in /usr/local/lib/python3.11/dist-packages (from beautifulsoup4) (2.6)\n",
            "Requirement already satisfied: typing-extensions>=4.0.0 in /usr/local/lib/python3.11/dist-packages (from beautifulsoup4) (4.12.2)\n",
            "Requirement already satisfied: numpy>=1.23.2 in /usr/local/lib/python3.11/dist-packages (from pandas) (1.26.4)\n",
            "Requirement already satisfied: python-dateutil>=2.8.2 in /usr/local/lib/python3.11/dist-packages (from pandas) (2.8.2)\n",
            "Requirement already satisfied: pytz>=2020.1 in /usr/local/lib/python3.11/dist-packages (from pandas) (2025.1)\n",
            "Requirement already satisfied: tzdata>=2022.7 in /usr/local/lib/python3.11/dist-packages (from pandas) (2025.1)\n",
            "Requirement already satisfied: six>=1.5 in /usr/local/lib/python3.11/dist-packages (from python-dateutil>=2.8.2->pandas) (1.17.0)\n"
          ]
        }
      ],
      "source": [
        "!pip install requests beautifulsoup4 pandas"
      ]
    },
    {
      "cell_type": "markdown",
      "metadata": {
        "id": "1sffF6WXsfay"
      },
      "source": [
        "# 2. Python-kirjastojen tuonti"
      ]
    },
    {
      "cell_type": "markdown",
      "metadata": {
        "id": "YTXsDTqkspIU"
      },
      "source": [
        "Tämä solu lataa tarvittavat työkalut käyttöön."
      ]
    },
    {
      "cell_type": "code",
      "execution_count": 3,
      "metadata": {
        "id": "lDnFAD8dsrOi"
      },
      "outputs": [],
      "source": [
        "import requests\n",
        "from bs4 import BeautifulSoup\n",
        "import re\n",
        "import pandas as pd\n",
        "from IPython.display import display, HTML\n",
        "from datetime import datetime"
      ]
    },
    {
      "cell_type": "markdown",
      "metadata": {
        "id": "AeUw8GsqstUu"
      },
      "source": [
        "# 3. Hakutoiminnot"
      ]
    },
    {
      "cell_type": "markdown",
      "metadata": {
        "id": "9x0zjG3yswjq"
      },
      "source": [
        "Tämä solu sisältää ohjelman toiminnallisuuden. Suorita solu, mutta koodia ei tarvitse muokata."
      ]
    },
    {
      "cell_type": "code",
      "execution_count": 16,
      "metadata": {
        "id": "I0DllLs-szkx"
      },
      "outputs": [],
      "source": [
        "def clean_html(text):\n",
        "    text = re.sub(r'</?strong>', '', text)\n",
        "    text = re.sub(r'<[^>]+>', '', text)\n",
        "    text = re.sub(r'\\s+', ' ', text)\n",
        "    return text.strip()\n",
        "\n",
        "def extract_event_details(text):\n",
        "    date_patterns = [\n",
        "        r'Kilpailupäivä\\s*\\*\\*([^*]+?)\\*\\*',\n",
        "        r'Kilpailupäivä\\s*([0-9]{1,2}\\.[0-9]{1,2}\\s*[0-9]{4})',\n",
        "        r'Kilpailupäivä\\s+([^\\n,]+)',\n",
        "    ]\n",
        "\n",
        "    competition_date = \"\"\n",
        "    for pattern in date_patterns:\n",
        "        date_match = re.search(pattern, text, re.IGNORECASE)\n",
        "        if date_match:\n",
        "            competition_date = date_match.group(1).strip()\n",
        "            break\n",
        "\n",
        "    location_patterns = [\n",
        "        r'Järjestyspaikka\\s*\\*\\*([^*]+?)\\*\\*',\n",
        "        r'Järjestyspaikka\\s+([^\\n,]+)',\n",
        "        r'Järjestyspaikka\\s*([^,\\n]+)'\n",
        "    ]\n",
        "\n",
        "    location = \"\"\n",
        "    for pattern in location_patterns:\n",
        "        location_match = re.search(pattern, text, re.IGNORECASE)\n",
        "        if location_match:\n",
        "            location = location_match.group(1).strip()\n",
        "            location = location.replace('*', '').strip()\n",
        "            break\n",
        "\n",
        "    return competition_date, location\n",
        "\n",
        "def extract_class_participants(text):\n",
        "    class_participants = {}\n",
        "    lines = text.split('\\n')\n",
        "\n",
        "    for line in lines:\n",
        "        line = clean_html(line)\n",
        "        if not line:\n",
        "            continue\n",
        "\n",
        "        class_match = re.match(r'(\\d+)\\.\\s+(?:Puomiluokka|\\d+\\s*cm)\\s+(\\d+)/50', line)\n",
        "        if class_match:\n",
        "            class_num = class_match.group(1)\n",
        "            participants = int(class_match.group(2))\n",
        "            class_participants[class_num] = participants\n",
        "\n",
        "    return class_participants\n",
        "\n",
        "def search_competition_results(content, search_term):\n",
        "    try:\n",
        "        soup = BeautifulSoup(content, 'html.parser')\n",
        "        text_content = soup.get_text()\n",
        "\n",
        "        competition_date, location = extract_event_details(text_content)\n",
        "        class_participants = extract_class_participants(text_content)\n",
        "\n",
        "        results = []\n",
        "        current_class = None\n",
        "        current_class_num = None\n",
        "        in_results = False\n",
        "\n",
        "        lines = [clean_html(line) for line in content.split('\\n')]\n",
        "\n",
        "        for line in lines:\n",
        "            if not line:\n",
        "                continue\n",
        "\n",
        "            if line.lower() == 'tulokset':\n",
        "                in_results = True\n",
        "                continue\n",
        "\n",
        "            if not in_results:\n",
        "                continue\n",
        "\n",
        "            class_match = re.match(r'(\\d+)\\.\\s+((?:Puomiluokka|\\d+\\s*cm))', line)\n",
        "            if class_match:\n",
        "                current_class_num = class_match.group(1)\n",
        "                current_class = class_match.group(2).strip()\n",
        "                current_class = re.sub(r'(\\d+)\\s*cm', r'\\1cm', current_class)\n",
        "                continue\n",
        "\n",
        "            if search_term in line:\n",
        "                placement_match = re.match(r'(\\d+)\\.', line)\n",
        "                placement = placement_match.group(1) if placement_match else ''\n",
        "\n",
        "                result_match = re.search(rf'{re.escape(search_term)}\\s*-\\s*(.*?)\\s*(VH\\d+-\\d+-\\d+)', line)\n",
        "\n",
        "                if result_match:\n",
        "                    horse_name = result_match.group(1).strip()\n",
        "                    vh_number = result_match.group(2).strip()\n",
        "\n",
        "                    results.append({\n",
        "                        'class': current_class,\n",
        "                        'class_number': int(current_class_num),\n",
        "                        'placement': int(placement) if placement else 999,\n",
        "                        'total_participants': class_participants.get(current_class_num, 0),\n",
        "                        'horse_name': horse_name,\n",
        "                        'vh_number': vh_number,\n",
        "                        'competition_date': competition_date,\n",
        "                        'location': location\n",
        "                    })\n",
        "\n",
        "        return results\n",
        "\n",
        "    except Exception as e:\n",
        "        print(f\"Error processing content: {str(e)}\")\n",
        "        return []\n",
        "\n",
        "def display_results_by_horse(results, save_to_file=False):\n",
        "    if not results:\n",
        "        print(\"No results found.\")\n",
        "        return\n",
        "\n",
        "    df = pd.DataFrame(results)\n",
        "    df = df.sort_values(by=['class_number', 'placement'])\n",
        "    grouped = df.groupby(['horse_name', 'vh_number'])\n",
        "\n",
        "    for (horse_name, vh_number), group in grouped:\n",
        "        if not horse_name:\n",
        "            continue\n",
        "\n",
        "        print(f\"\\n{horse_name} ({vh_number}):\")\n",
        "\n",
        "        sorted_group = group.sort_values(by=['class_number', 'placement'])\n",
        "\n",
        "        for _, row in sorted_group.iterrows():\n",
        "            if row['placement'] != 999:\n",
        "                print(f\"{row['competition_date']} - {row['location']} - {row['class']} - {row['placement']}/{row['total_participants']}\")\n",
        "\n",
        "    if save_to_file:\n",
        "        timestamp = datetime.now().strftime(\"%Y%m%d_%H%M%S\")\n",
        "        filename = f'competition_results_{timestamp}.csv'\n",
        "        df.to_csv(filename, index=False)\n",
        "        print(f\"\\nResults saved to {filename}\")\n",
        "\n",
        "def process_multiple_urls(urls, search_term):\n",
        "    all_results = []\n",
        "\n",
        "    for url in urls:\n",
        "        try:\n",
        "            print(f\"\\nProcessing {url}...\")\n",
        "            response = requests.get(url)\n",
        "            response.encoding = 'utf-8'\n",
        "            results = search_competition_results(response.text, search_term)\n",
        "            if results:\n",
        "                print(f\"Found {len(results)} results\")\n",
        "                all_results.extend(results)\n",
        "            else:\n",
        "                print(\"No results found in this URL\")\n",
        "        except Exception as e:\n",
        "            print(f\"Error processing {url}: {str(e)}\")\n",
        "\n",
        "    return all_results"
      ]
    },
    {
      "cell_type": "markdown",
      "metadata": {
        "id": "ZQc8TkWLs5Cp"
      },
      "source": [
        "# 4. Syötetiedot"
      ]
    },
    {
      "cell_type": "markdown",
      "metadata": {
        "id": "hbgo35rFs7Lb"
      },
      "source": [
        "Muokkaa alla olevat tiedot:\n",
        "- Lisää kilpailujen URL-osoitteet urls-listaan\n",
        "- Kirjoita search_term-kohtaan haettavan ratsastajan nimi tai VRL-numero täsmälleen oikeassa muodossa\n",
        "\n",
        "Esimerkki:\n",
        "- URL: https://harakkasyndrooma.net/n/krj/361.html\n",
        "- Ratsastajan tiedot: \"Tilli (VRL-00406)\""
      ]
    },
    {
      "cell_type": "code",
      "execution_count": 21,
      "metadata": {
        "id": "UUFQXRmcs9R7"
      },
      "outputs": [],
      "source": [
        "# Lisää kilpailujen URL-osoitteet tähän, yksi per rivi\n",
        "urls = [\n",
        "    #\"https://harakkasyndrooma.net/n/erj/401.html\",\n",
        "    \"https://harakkasyndrooma.net/n/erj/361.html\" # Poista # merkki rivin alusta ottaaksesi URL käyttöön\n",
        "]\n",
        "\n",
        "# Kirjoita ratsastajan nimi tai VRL-numero\n",
        "search_term = \"corbin. (VRL-06467)\"  # Muuta tämä"
      ]
    },
    {
      "cell_type": "markdown",
      "metadata": {
        "id": "Bi7gS78LtBTT"
      },
      "source": [
        "# 5. Tulosten haku"
      ]
    },
    {
      "cell_type": "markdown",
      "metadata": {
        "id": "amIcaQ1XtEXe"
      },
      "source": [
        "Suorita tämä solu hakeaksesi tulokset.\n",
        "- Tulokset näytetään ruudulla\n",
        "- CSV-tiedosto tallennetaan automaattisesti"
      ]
    },
    {
      "cell_type": "code",
      "execution_count": 22,
      "metadata": {
        "colab": {
          "base_uri": "https://localhost:8080/"
        },
        "id": "-CTn2W54tHDj",
        "outputId": "8c1c6ec1-c0b2-4f57-8c31-f2d79fa0edab"
      },
      "outputs": [
        {
          "output_type": "stream",
          "name": "stdout",
          "text": [
            "\n",
            "Processing https://harakkasyndrooma.net/n/erj/361.html...\n",
            "Found 38 results\n",
            "\n",
            "Abydos G! (VH14-034-0118):\n",
            "11.01 2025 - Nessinjärven kilpailukeskus - 160cm - 10/36\n",
            "11.01 2025 - Nessinjärven kilpailukeskus - 160cm - 25/36\n",
            "\n",
            "Carusos Valerie (VH05-029-8825):\n",
            "11.01 2025 - Nessinjärven kilpailukeskus - 90cm - 41/50\n",
            "\n",
            "Euphorio SWA (VH24-021-0192):\n",
            "11.01 2025 - Nessinjärven kilpailukeskus - 150cm - 29/40\n",
            "11.01 2025 - Nessinjärven kilpailukeskus - 150cm - 36/40\n",
            "\n",
            "Fawnmor Cinnabar (VH22-023-0128):\n",
            "11.01 2025 - Nessinjärven kilpailukeskus - 70cm - 7/50\n",
            "11.01 2025 - Nessinjärven kilpailukeskus - 80cm - 17/50\n",
            "\n",
            "Fiktion Velmu (VH24-018-0430):\n",
            "11.01 2025 - Nessinjärven kilpailukeskus - 90cm - 50/50\n",
            "\n",
            "Heinämäen Luukas (VH05-018-4989):\n",
            "11.01 2025 - Nessinjärven kilpailukeskus - 70cm - 44/50\n",
            "11.01 2025 - Nessinjärven kilpailukeskus - 80cm - 31/50\n",
            "\n",
            "Heinämäen Tuisku (VH24-018-0433):\n",
            "11.01 2025 - Nessinjärven kilpailukeskus - 70cm - 41/50\n",
            "11.01 2025 - Nessinjärven kilpailukeskus - 80cm - 7/50\n",
            "\n",
            "Hystereesi (VH24-018-0432):\n",
            "11.01 2025 - Nessinjärven kilpailukeskus - 70cm - 37/50\n",
            "11.01 2025 - Nessinjärven kilpailukeskus - 80cm - 11/50\n",
            "\n",
            "Kingston Cadet (VH24-021-0052):\n",
            "11.01 2025 - Nessinjärven kilpailukeskus - 150cm - 2/40\n",
            "11.01 2025 - Nessinjärven kilpailukeskus - 150cm - 21/40\n",
            "\n",
            "Kingston Cairo (VH24-021-0190):\n",
            "11.01 2025 - Nessinjärven kilpailukeskus - 130cm - 29/43\n",
            "11.01 2025 - Nessinjärven kilpailukeskus - 140cm - 3/33\n",
            "\n",
            "Kingston Cali (VH24-021-0194):\n",
            "11.01 2025 - Nessinjärven kilpailukeskus - 130cm - 20/43\n",
            "11.01 2025 - Nessinjärven kilpailukeskus - 140cm - 30/33\n",
            "\n",
            "Kingston Chai-Star (VH24-021-0156):\n",
            "11.01 2025 - Nessinjärven kilpailukeskus - 160cm - 28/36\n",
            "11.01 2025 - Nessinjärven kilpailukeskus - 160cm - 29/36\n",
            "\n",
            "Kingston Cierra (VH06-021-9761):\n",
            "11.01 2025 - Nessinjärven kilpailukeskus - 160cm - 15/36\n",
            "11.01 2025 - Nessinjärven kilpailukeskus - 160cm - 28/36\n",
            "\n",
            "Kingston Lanciano (VH06-021-9179):\n",
            "11.01 2025 - Nessinjärven kilpailukeskus - 130cm - 32/43\n",
            "11.01 2025 - Nessinjärven kilpailukeskus - 140cm - 25/33\n",
            "\n",
            "Kingston Lovette (VH24-021-0193):\n",
            "11.01 2025 - Nessinjärven kilpailukeskus - 130cm - 14/43\n",
            "11.01 2025 - Nessinjärven kilpailukeskus - 140cm - 8/33\n",
            "\n",
            "Pressure xx (VH06-006-9180):\n",
            "11.01 2025 - Nessinjärven kilpailukeskus - 130cm - 24/43\n",
            "11.01 2025 - Nessinjärven kilpailukeskus - 140cm - 18/33\n",
            "\n",
            "Relissi (VH06-018-0125):\n",
            "11.01 2025 - Nessinjärven kilpailukeskus - 90cm - 6/50\n",
            "\n",
            "Sparta Al-Adeed (VH12-003-0494):\n",
            "11.01 2025 - Nessinjärven kilpailukeskus - 90cm - 39/50\n",
            "\n",
            "Star-Grounded (VH06-021-9184):\n",
            "11.01 2025 - Nessinjärven kilpailukeskus - 150cm - 33/40\n",
            "11.01 2025 - Nessinjärven kilpailukeskus - 150cm - 33/40\n",
            "\n",
            "Suprant Lolita (VH24-021-0055):\n",
            "11.01 2025 - Nessinjärven kilpailukeskus - 150cm - 13/40\n",
            "11.01 2025 - Nessinjärven kilpailukeskus - 150cm - 28/40\n",
            "\n",
            "Vaapukan Rakel (VH24-017-0130):\n",
            "11.01 2025 - Nessinjärven kilpailukeskus - 60cm - 3/44\n",
            "\n",
            "Vendôme (VH24-023-0137):\n",
            "11.01 2025 - Nessinjärven kilpailukeskus - 90cm - 5/50\n",
            "\n",
            "Results saved to competition_results_20250211_191505.csv\n"
          ]
        }
      ],
      "source": [
        "# Hae ja näytä tulokset\n",
        "results = process_multiple_urls(urls, search_term)\n",
        "display_results_by_horse(results, save_to_file=True)"
      ]
    }
  ],
  "metadata": {
    "colab": {
      "provenance": [],
      "toc_visible": true,
      "authorship_tag": "ABX9TyMqB5/YPkr7iqmhoqLXvplk",
      "include_colab_link": true
    },
    "kernelspec": {
      "display_name": "Python 3",
      "name": "python3"
    },
    "language_info": {
      "name": "python"
    }
  },
  "nbformat": 4,
  "nbformat_minor": 0
}